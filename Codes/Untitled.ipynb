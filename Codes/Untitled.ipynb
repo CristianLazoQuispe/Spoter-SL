{
 "cells": [
  {
   "cell_type": "code",
   "execution_count": 1,
   "metadata": {},
   "outputs": [
    {
     "name": "stdout",
     "output_type": "stream",
     "text": [
      "/home/shuaman/repucs/Spoter-SL/Codes\n"
     ]
    }
   ],
   "source": [
    "!pwd"
   ]
  },
  {
   "cell_type": "code",
   "execution_count": 2,
   "metadata": {},
   "outputs": [
    {
     "name": "stdout",
     "output_type": "stream",
     "text": [
      "/home/shuaman/repucs/Spoter-SL\n"
     ]
    }
   ],
   "source": [
    "%cd /home/shuaman/repucs/Spoter-SL"
   ]
  },
  {
   "cell_type": "code",
   "execution_count": 3,
   "metadata": {},
   "outputs": [
    {
     "name": "stdout",
     "output_type": "stream",
     "text": [
      "/home/shuaman/repucs/Spoter-SL\n"
     ]
    }
   ],
   "source": [
    "!pwd"
   ]
  },
  {
   "cell_type": "code",
   "execution_count": 4,
   "metadata": {},
   "outputs": [],
   "source": [
    "from spoter.spoter_model import SPOTER"
   ]
  },
  {
   "cell_type": "code",
   "execution_count": 6,
   "metadata": {},
   "outputs": [
    {
     "name": "stdout",
     "output_type": "stream",
     "text": [
      "hidden_dim 58\n",
      "3048724\n",
      "hidden_dim 58\n",
      "3048783\n",
      "hidden_dim 58\n",
      "3052146\n",
      "hidden_dim 142\n",
      "8001028\n",
      "hidden_dim 142\n",
      "8001171\n",
      "hidden_dim 142\n",
      "8009322\n"
     ]
    }
   ],
   "source": [
    "for hd in [58, 142]:\n",
    "    for nc in [28, 29,86]:\n",
    "        slrt_model_op = SPOTER(num_classes=nc, \n",
    "                                hidden_dim=hd\n",
    "                                )\n",
    "        print(sum(p.numel() for p in slrt_model_op.parameters()))"
   ]
  },
  {
   "cell_type": "code",
   "execution_count": 7,
   "metadata": {},
   "outputs": [
    {
     "name": "stdout",
     "output_type": "stream",
     "text": [
      "hidden_dim 58\n",
      "3048724\n",
      "hidden_dim 58\n",
      "3048783\n",
      "hidden_dim 58\n",
      "3052146\n",
      "hidden_dim 142\n",
      "8001028\n",
      "hidden_dim 142\n",
      "8001171\n",
      "hidden_dim 142\n",
      "8009322\n"
     ]
    }
   ],
   "source": [
    "for hd in [58, 142]:\n",
    "    for nc in [28, 29,86]:\n",
    "        slrt_model_op = SPOTER(num_classes=nc, \n",
    "                                hidden_dim=hd\n",
    "                                )\n",
    "        print(sum(p.numel() for p in slrt_model_op.parameters() if p.requires_grad))"
   ]
  },
  {
   "cell_type": "code",
   "execution_count": null,
   "metadata": {},
   "outputs": [],
   "source": []
  }
 ],
 "metadata": {
  "kernelspec": {
   "display_name": "spoter-sl",
   "language": "python",
   "name": "spoter-sl"
  },
  "language_info": {
   "codemirror_mode": {
    "name": "ipython",
    "version": 3
   },
   "file_extension": ".py",
   "mimetype": "text/x-python",
   "name": "python",
   "nbconvert_exporter": "python",
   "pygments_lexer": "ipython3",
   "version": "3.8.13"
  }
 },
 "nbformat": 4,
 "nbformat_minor": 4
}
